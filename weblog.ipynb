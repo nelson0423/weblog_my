{
 "cells": [
  {
   "cell_type": "markdown",
   "metadata": {},
   "source": [
    "# This is for Weblog Analysis testing data\n",
    "\n",
    "===========================================================================\n",
    "\n",
    "Date: 2017-04-24  \n",
    "Author: Orozco Hsu  \n",
    "Organization: DataService  "
   ]
  },
  {
   "cell_type": "code",
   "execution_count": 1,
   "metadata": {
    "collapsed": false
   },
   "outputs": [
    {
     "data": {
      "text/plain": [
       "<module 'sys' (built-in)>"
      ]
     },
     "execution_count": 1,
     "metadata": {},
     "output_type": "execute_result"
    }
   ],
   "source": [
    "import csv\n",
    "import random\n",
    "import datetime\n",
    "import time\n",
    "import os\n",
    "import imp\n",
    "import sys\n",
    "imp.reload(sys)"
   ]
  },
  {
   "cell_type": "code",
   "execution_count": 2,
   "metadata": {
    "collapsed": false
   },
   "outputs": [],
   "source": [
    "# read url log\n",
    "\n",
    "url = []\n",
    "with open('host_url.csv', encoding = 'utf8', newline='\\n') as csvfile:\n",
    "    spamreader = csv.reader(csvfile, delimiter=',')\n",
    "    for row in spamreader:\n",
    "        url.append(row[5])"
   ]
  },
  {
   "cell_type": "code",
   "execution_count": 3,
   "metadata": {
    "collapsed": false
   },
   "outputs": [],
   "source": [
    "# read user agent\n",
    "\n",
    "ua = []\n",
    "with open('user_agent.csv', newline='\\n') as csvfile:\n",
    "    spamreader = csv.reader(csvfile, delimiter=',')\n",
    "    for row in spamreader:\n",
    "        ua.append(row[0])\n"
   ]
  },
  {
   "cell_type": "code",
   "execution_count": 4,
   "metadata": {
    "collapsed": true
   },
   "outputs": [],
   "source": [
    "# read uuid\n",
    "\n",
    "uuid = []\n",
    "with open('uuid.csv', newline='\\n') as csvfile:\n",
    "    spamreader = csv.reader(csvfile, delimiter=',')\n",
    "    for row in spamreader:\n",
    "        uuid.append(row[0])"
   ]
  },
  {
   "cell_type": "code",
   "execution_count": 5,
   "metadata": {
    "collapsed": false
   },
   "outputs": [],
   "source": [
    "# read time interval\n",
    "\n",
    "interval = []\n",
    "\n",
    "with open('inteval.csv', newline='\\n') as csvfile:\n",
    "    spamreader = csv.reader(csvfile, delimiter=' ')\n",
    "    for row in spamreader:\n",
    "        interval.extend([row[1]])"
   ]
  },
  {
   "cell_type": "code",
   "execution_count": 6,
   "metadata": {
    "collapsed": false
   },
   "outputs": [
    {
     "name": "stdout",
     "output_type": "stream",
     "text": [
      "Done!\n"
     ]
    }
   ],
   "source": [
    "# how many days in total\n",
    "dayTotal = 10\n",
    "\n",
    "# start date\n",
    "sDate = '2017-04-01 00:00:00'\n",
    "\n",
    "# minute count\n",
    "i = 0\n",
    "with open(\"output.txt\", \"a\") as logfile:\n",
    "    \n",
    "    startDate = datetime.datetime.strptime(sDate, \"%Y-%m-%d %H:%M:%S\")\n",
    "    totalMinute = dayTotal*1440\n",
    "    \n",
    "    for f in range(totalMinute):\n",
    "        \n",
    "        if(i%1440 == 0 and i != 0):\n",
    "            dayTotal -= 1\n",
    "            if(dayTotal==0):\n",
    "                print(\"Done!\")\n",
    "                break\n",
    "            else:\n",
    "                startDate = startDate + datetime.timedelta(days=1)\n",
    "                i = 1\n",
    "        \n",
    "        # how many logs in one minute\n",
    "        logRow = random.randint(0,50)\n",
    "        for k in range(logRow):\n",
    "            log = startDate.strftime('%Y-%m-%d') + \" \" + interval[i] + \"|\" + random.choice(url) + \"|\" + random.choice(ua) + \"|\" + random.choice(uuid)\n",
    "            logfile.write(log + \"\\n\")\n",
    "           \n",
    "        i+=1"
   ]
  },
  {
   "cell_type": "code",
   "execution_count": null,
   "metadata": {
    "collapsed": true
   },
   "outputs": [],
   "source": []
  }
 ],
 "metadata": {
  "kernelspec": {
   "display_name": "Python [test-python-35]",
   "language": "python",
   "name": "Python [test-python-35]"
  },
  "language_info": {
   "codemirror_mode": {
    "name": "ipython",
    "version": 3
   },
   "file_extension": ".py",
   "mimetype": "text/x-python",
   "name": "python",
   "nbconvert_exporter": "python",
   "pygments_lexer": "ipython3",
   "version": "3.5.3"
  }
 },
 "nbformat": 4,
 "nbformat_minor": 2
}
